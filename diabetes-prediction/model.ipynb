{
 "cells": [
  {
   "cell_type": "markdown",
   "id": "08379982-b755-4fbd-bc57-8cf5cbbbcec8",
   "metadata": {},
   "source": [
    "# Diabetes Prediction\n",
    "### <i>Logistic Regression</i>"
   ]
  },
  {
   "cell_type": "markdown",
   "id": "cbafa8db-9ca3-414c-832a-6e81a1ce5f39",
   "metadata": {},
   "source": [
    "## About the Dataset\n",
    "The dataset used in this model is obtained from kaggle using the following link \"https://www.kaggle.com/datasets/alexteboul/diabetes-health-indicators-dataset/data\". This dataset is obtained from a survey conducted through the BRFSS. The Behavioral Risk Factor Surveillance System (BRFSS) is a health-related telephone survey that is collected annually by the CDC. Each year, the survey collects responses from over 400,000 Americans on health-related risk behaviors, chronic health conditions, and the use of preventative services. It has been conducted every year since 1984. For this project, a csv of the dataset available on Kaggle for the year 2015 was used. This original dataset contains responses from 441,455 individuals and has 330 features. These features are either questions directly asked of participants, or calculated variables based on individual participant responses.\n",
    "The following dataset is a cleaner and filtered version of the original dataset that fits the criteria for predicting algorithm development."
   ]
  },
  {
   "cell_type": "markdown",
   "id": "72ca40f2-77ed-4eca-bb3d-ee6847252a6d",
   "metadata": {},
   "source": [
    "## Variable Description\n",
    "<table>\r\n",
    "    <thead>\r\n",
    "        <tr>\r\n",
    "            <th>Index</th>\r\n",
    "            <th>Variable No.</th>\r\n",
    "            <th>Variable Name</th>\r\n",
    "            <th>Variable Description</th>\r\n",
    "        </tr>\r\n",
    "    </thead>\r\n",
    "    <tbody>\r\n",
    "        <tr>\r\n",
    "            <td>0</td>\r\n",
    "            <td>Diabetes_012</td>\r\n",
    "            <td>Diabetes</td>\r\n",
    "            <td>0 = no diabetes 1 = prediabetes 2 = diabetes</td>\r\n",
    "        </tr>\r\n",
    "        <tr>\r\n",
    "            <td>1</td>\r\n",
    "            <td>HighBP</td>\r\n",
    "            <td>High Blood Pressure</td>\r\n",
    "            <td>0 = no high BP 1 = high BP</td>\r\n",
    "        </tr>\r\n",
    "        <tr>\r\n",
    "            <td>2</td>\r\n",
    "            <td>HighChol</td>\r\n",
    "            <td>High Cholesterol</td>\r\n",
    "            <td>0 = no high cholesterol 1 = high cholesterol</td>\r\n",
    "        </tr>\r\n",
    "        <tr>\r\n",
    "            <td>3</td>\r\n",
    "            <td>CholCheck</td>\r\n",
    "            <td>Cholesterol Check</td>\r\n",
    "            <td>0 = no cholesterol check in 5 years 1 = yes cholesterol check in 5 years</td>\r\n",
    "        </tr>\r\n",
    "        <tr>\r\n",
    "            <td>4</td>\r\n",
    "            <td>BMI</td>\r\n",
    "            <td>Body Mass Index</td>\r\n",
    "            <td></td>\r\n",
    "        </tr>\r\n",
    "        <tr>\r\n",
    "            <td>5</td>\r\n",
    "            <td>Smoker</td>\r\n",
    "            <td>Smoking Status</td>\r\n",
    "            <td>Have you smoked at least 100 cigarettes in your entire life? [Note: 5 packs = 100 cigarettes] 0 = no 1 = yes</td>\r\n",
    "        </tr>\r\n",
    "        <tr>\r\n",
    "            <td>6</td>\r\n",
    "            <td>Stroke</td>\r\n",
    "            <td>Stroke History</td>\r\n",
    "            <td>(Ever told) you had a stroke. 0 = no 1 = yes</td>\r\n",
    "        </tr>\r\n",
    "        <tr>\r\n",
    "            <td>7</td>\r\n",
    "            <td>HeartDiseaseorAttack</td>\r\n",
    "            <td>Heart Disease or Heart Attack</td>\r\n",
    "            <td>Coronary heart disease (CHD) or myocardial infarction (MI) 0 = no 1 = yes</td>\r\n",
    "        </tr>\r\n",
    "        <tr>\r\n",
    "            <td>8</td>\r\n",
    "            <td>PhysActivity</td>\r\n",
    "            <td>Physical Activity</td>\r\n",
    "            <td>Physical activity in past 30 days - not including job 0 = no 1 = yes</td>\r\n",
    "        </tr>\r\n",
    "        <tr>\r\n",
    "            <td>9</td>\r\n",
    "            <td>Fruits</td>\r\n",
    "            <td>Fruit Consumption</td>\r\n",
    "            <td>Consume Fruit 1 or more times per day 0 = no 1 = yes</td>\r\n",
    "        </tr>\r\n",
    "        <tr>\r\n",
    "            <td>10</td>\r\n",
    "            <td>Veggies</td>\r\n",
    "            <td>Vegetable Consumption</td>\r\n",
    "            <td>Consume Vegetables 1 or more times per day 0 = no 1 = yes</td>\r\n",
    "        </tr>\r\n",
    "        <tr>\r\n",
    "            <td>11</td>\r\n",
    "            <td>HvyAlcoholConsump</td>\r\n",
    "            <td>Heavy Alcohol Consumption</td>\r\n",
    "            <td>Heavy drinkers (adult men having more than 14 drinks per week and adult women having more than 7 drinks per week) 0 = no</td>\r\n",
    "        </tr>\r\n",
    "        <tr>\r\n",
    "            <td>12</td>\r\n",
    "            <td>AnyHealthcare</td>\r\n",
    "            <td>Healthcare Coverage</td>\r\n",
    "            <td>Have any kind of health care coverage, including health insurance, prepaid plans such as HMO, etc. 0 = no 1 = yes</td>\r\n",
    "        </tr>\r\n",
    "        <tr>\r\n",
    "            <td>13</td>\r\n",
    "            <td>NoDocbcCost</td>\r\n",
    "            <td>Doctor Visit Cost Barrier</td>\r\n",
    "            <td>Was there a time in the past 12 months when you needed to see a doctor but could not because of cost? 0 = no 1 = yes</td>\r\n",
    "        </tr>\r\n",
    "        <tr>\r\n",
    "            <td>14</td>\r\n",
    "            <td>GenHlth</td>\r\n",
    "            <td>General Health Rating</td>\r\n",
    "            <td>Would you say that in general your health is: scale 1-5 1 = excellent 2 = very good 3 = good 4 = fair 5 = poor</td>\r\n",
    "        </tr>\r\n",
    "        <tr>\r\n",
    "            <td>15</td>\r\n",
    "            <td>MentHlth</td>\r\n",
    "            <td>Mental Health Rating</td>\r\n",
    "            <td>Now thinking about your mental health, which includes stress, depression, and problems with emotions, for how</td>\r\n",
    "        </tr>\r\n",
    "        <tr>\r\n",
    "            <td>16</td>\r\n",
    "            <td>PhysHlth</td>\r\n",
    "            <td>Physical Health Rating</td>\r\n",
    "            <td>Now thinking about your physical health, which includes physical illness and injury, for how many days during the past 30 days</td>\r\n",
    "        </tr>\r\n",
    "        <tr>\r\n",
    "            <td>17</td>\r\n",
    "            <td>DiffWalk</td>\r\n",
    "            <td>Walking Difficulty</td>\r\n",
    "            <td>Do you have serious difficulty walking or climbing stairs? 0 = no 1 = yes</td>\r\n",
    "        </tr>\r\n",
    "        <tr>\r\n",
    "            <td>18</td>\r\n",
    "            <td>Sex</td>\r\n",
    "            <td>Sex</td>\r\n",
    "            <td>0 = female 1 = male</td>\r\n",
    "        </tr>\r\n",
    "        <tr>\r\n",
    "            <td>19</td>\r\n",
    "            <td>Age</td>\r\n",
    "            <td>Age</td>\r\n",
    "            <td>13-level age category 1 = 18-24 9 = 60-64 13 = 80 or older</td>\r\n",
    "        </tr>\r\n",
    "        <tr>\r\n",
    "            <td>20</td>\r\n",
    "            <td>Education</td>\r\n",
    "            <td>Education Level</td>\r\n",
    "            <td>Education level scale 1-6 1 = Never attended school or only kindergarten 2 = Grades 1 through 8</td>\r\n",
    "        </tr>\r\n",
    "        <tr>\r\n",
    "            <td>21</td>\r\n",
    "            <td>Income</td>\r\n",
    "            <td>Income</td>\r\n",
    "            <td>Income scale scale 1-8 1 = less than $10,000 5 = less than $35,000 8 = $75,000 or more</td>\r\n",
    "        </tr>\r\n",
    "    </tbody>\r\n",
    "</table>"
   ]
  },
  {
   "cell_type": "markdown",
   "id": "5070bca7-5ad1-4ba8-b16a-5d60db7e1151",
   "metadata": {},
   "source": [
    "## Installing Dependencies"
   ]
  },
  {
   "cell_type": "code",
   "execution_count": 2,
   "id": "0badf51d-6e42-49db-a015-0eb136b3d77e",
   "metadata": {},
   "outputs": [],
   "source": [
    "import pandas as pd\n",
    "from sklearn.linear_model import LogisticRegression\n",
    "from sklearn.preprocessing import StandardScaler\n",
    "from sklearn.model_selection import train_test_split\n",
    "from sklearn.metrics import accuracy_score"
   ]
  },
  {
   "cell_type": "markdown",
   "id": "7d64d5fc-9442-44d8-acce-751565b022e8",
   "metadata": {},
   "source": [
    "## Importing the csv file into pandas dataframe"
   ]
  },
  {
   "cell_type": "code",
   "execution_count": 3,
   "id": "971a781f-a5d8-4c5b-a328-e23d36465b67",
   "metadata": {},
   "outputs": [
    {
     "data": {
      "text/html": [
       "<div>\n",
       "<style scoped>\n",
       "    .dataframe tbody tr th:only-of-type {\n",
       "        vertical-align: middle;\n",
       "    }\n",
       "\n",
       "    .dataframe tbody tr th {\n",
       "        vertical-align: top;\n",
       "    }\n",
       "\n",
       "    .dataframe thead th {\n",
       "        text-align: right;\n",
       "    }\n",
       "</style>\n",
       "<table border=\"1\" class=\"dataframe\">\n",
       "  <thead>\n",
       "    <tr style=\"text-align: right;\">\n",
       "      <th></th>\n",
       "      <th>Diabetes_012</th>\n",
       "      <th>HighBP</th>\n",
       "      <th>HighChol</th>\n",
       "      <th>CholCheck</th>\n",
       "      <th>BMI</th>\n",
       "      <th>Smoker</th>\n",
       "      <th>Stroke</th>\n",
       "      <th>HeartDiseaseorAttack</th>\n",
       "      <th>PhysActivity</th>\n",
       "      <th>Fruits</th>\n",
       "      <th>...</th>\n",
       "      <th>AnyHealthcare</th>\n",
       "      <th>NoDocbcCost</th>\n",
       "      <th>GenHlth</th>\n",
       "      <th>MentHlth</th>\n",
       "      <th>PhysHlth</th>\n",
       "      <th>DiffWalk</th>\n",
       "      <th>Sex</th>\n",
       "      <th>Age</th>\n",
       "      <th>Education</th>\n",
       "      <th>Income</th>\n",
       "    </tr>\n",
       "  </thead>\n",
       "  <tbody>\n",
       "    <tr>\n",
       "      <th>0</th>\n",
       "      <td>0.0</td>\n",
       "      <td>1.0</td>\n",
       "      <td>1.0</td>\n",
       "      <td>1.0</td>\n",
       "      <td>40.0</td>\n",
       "      <td>1.0</td>\n",
       "      <td>0.0</td>\n",
       "      <td>0.0</td>\n",
       "      <td>0.0</td>\n",
       "      <td>0.0</td>\n",
       "      <td>...</td>\n",
       "      <td>1.0</td>\n",
       "      <td>0.0</td>\n",
       "      <td>5.0</td>\n",
       "      <td>18.0</td>\n",
       "      <td>15.0</td>\n",
       "      <td>1.0</td>\n",
       "      <td>0.0</td>\n",
       "      <td>9.0</td>\n",
       "      <td>4.0</td>\n",
       "      <td>3.0</td>\n",
       "    </tr>\n",
       "    <tr>\n",
       "      <th>1</th>\n",
       "      <td>0.0</td>\n",
       "      <td>0.0</td>\n",
       "      <td>0.0</td>\n",
       "      <td>0.0</td>\n",
       "      <td>25.0</td>\n",
       "      <td>1.0</td>\n",
       "      <td>0.0</td>\n",
       "      <td>0.0</td>\n",
       "      <td>1.0</td>\n",
       "      <td>0.0</td>\n",
       "      <td>...</td>\n",
       "      <td>0.0</td>\n",
       "      <td>1.0</td>\n",
       "      <td>3.0</td>\n",
       "      <td>0.0</td>\n",
       "      <td>0.0</td>\n",
       "      <td>0.0</td>\n",
       "      <td>0.0</td>\n",
       "      <td>7.0</td>\n",
       "      <td>6.0</td>\n",
       "      <td>1.0</td>\n",
       "    </tr>\n",
       "    <tr>\n",
       "      <th>2</th>\n",
       "      <td>0.0</td>\n",
       "      <td>1.0</td>\n",
       "      <td>1.0</td>\n",
       "      <td>1.0</td>\n",
       "      <td>28.0</td>\n",
       "      <td>0.0</td>\n",
       "      <td>0.0</td>\n",
       "      <td>0.0</td>\n",
       "      <td>0.0</td>\n",
       "      <td>1.0</td>\n",
       "      <td>...</td>\n",
       "      <td>1.0</td>\n",
       "      <td>1.0</td>\n",
       "      <td>5.0</td>\n",
       "      <td>30.0</td>\n",
       "      <td>30.0</td>\n",
       "      <td>1.0</td>\n",
       "      <td>0.0</td>\n",
       "      <td>9.0</td>\n",
       "      <td>4.0</td>\n",
       "      <td>8.0</td>\n",
       "    </tr>\n",
       "    <tr>\n",
       "      <th>3</th>\n",
       "      <td>0.0</td>\n",
       "      <td>1.0</td>\n",
       "      <td>0.0</td>\n",
       "      <td>1.0</td>\n",
       "      <td>27.0</td>\n",
       "      <td>0.0</td>\n",
       "      <td>0.0</td>\n",
       "      <td>0.0</td>\n",
       "      <td>1.0</td>\n",
       "      <td>1.0</td>\n",
       "      <td>...</td>\n",
       "      <td>1.0</td>\n",
       "      <td>0.0</td>\n",
       "      <td>2.0</td>\n",
       "      <td>0.0</td>\n",
       "      <td>0.0</td>\n",
       "      <td>0.0</td>\n",
       "      <td>0.0</td>\n",
       "      <td>11.0</td>\n",
       "      <td>3.0</td>\n",
       "      <td>6.0</td>\n",
       "    </tr>\n",
       "    <tr>\n",
       "      <th>4</th>\n",
       "      <td>0.0</td>\n",
       "      <td>1.0</td>\n",
       "      <td>1.0</td>\n",
       "      <td>1.0</td>\n",
       "      <td>24.0</td>\n",
       "      <td>0.0</td>\n",
       "      <td>0.0</td>\n",
       "      <td>0.0</td>\n",
       "      <td>1.0</td>\n",
       "      <td>1.0</td>\n",
       "      <td>...</td>\n",
       "      <td>1.0</td>\n",
       "      <td>0.0</td>\n",
       "      <td>2.0</td>\n",
       "      <td>3.0</td>\n",
       "      <td>0.0</td>\n",
       "      <td>0.0</td>\n",
       "      <td>0.0</td>\n",
       "      <td>11.0</td>\n",
       "      <td>5.0</td>\n",
       "      <td>4.0</td>\n",
       "    </tr>\n",
       "  </tbody>\n",
       "</table>\n",
       "<p>5 rows × 22 columns</p>\n",
       "</div>"
      ],
      "text/plain": [
       "   Diabetes_012  HighBP  HighChol  CholCheck   BMI  Smoker  Stroke  \\\n",
       "0           0.0     1.0       1.0        1.0  40.0     1.0     0.0   \n",
       "1           0.0     0.0       0.0        0.0  25.0     1.0     0.0   \n",
       "2           0.0     1.0       1.0        1.0  28.0     0.0     0.0   \n",
       "3           0.0     1.0       0.0        1.0  27.0     0.0     0.0   \n",
       "4           0.0     1.0       1.0        1.0  24.0     0.0     0.0   \n",
       "\n",
       "   HeartDiseaseorAttack  PhysActivity  Fruits  ...  AnyHealthcare  \\\n",
       "0                   0.0           0.0     0.0  ...            1.0   \n",
       "1                   0.0           1.0     0.0  ...            0.0   \n",
       "2                   0.0           0.0     1.0  ...            1.0   \n",
       "3                   0.0           1.0     1.0  ...            1.0   \n",
       "4                   0.0           1.0     1.0  ...            1.0   \n",
       "\n",
       "   NoDocbcCost  GenHlth  MentHlth  PhysHlth  DiffWalk  Sex   Age  Education  \\\n",
       "0          0.0      5.0      18.0      15.0       1.0  0.0   9.0        4.0   \n",
       "1          1.0      3.0       0.0       0.0       0.0  0.0   7.0        6.0   \n",
       "2          1.0      5.0      30.0      30.0       1.0  0.0   9.0        4.0   \n",
       "3          0.0      2.0       0.0       0.0       0.0  0.0  11.0        3.0   \n",
       "4          0.0      2.0       3.0       0.0       0.0  0.0  11.0        5.0   \n",
       "\n",
       "   Income  \n",
       "0     3.0  \n",
       "1     1.0  \n",
       "2     8.0  \n",
       "3     6.0  \n",
       "4     4.0  \n",
       "\n",
       "[5 rows x 22 columns]"
      ]
     },
     "execution_count": 3,
     "metadata": {},
     "output_type": "execute_result"
    }
   ],
   "source": [
    "data = pd.read_csv(\"diabetes_data.csv\")\n",
    "data.head()"
   ]
  },
  {
   "cell_type": "code",
   "execution_count": 3,
   "id": "31fb84f3-1a3b-4917-8405-bba579e8a676",
   "metadata": {},
   "outputs": [
    {
     "data": {
      "text/plain": [
       "(253680, 22)"
      ]
     },
     "execution_count": 3,
     "metadata": {},
     "output_type": "execute_result"
    }
   ],
   "source": [
    "data.shape"
   ]
  },
  {
   "cell_type": "code",
   "execution_count": 4,
   "id": "7f5591d8-11ab-4e8f-ab6c-dca7d19644a0",
   "metadata": {},
   "outputs": [
    {
     "name": "stdout",
     "output_type": "stream",
     "text": [
      "<class 'pandas.core.frame.DataFrame'>\n",
      "RangeIndex: 253680 entries, 0 to 253679\n",
      "Data columns (total 22 columns):\n",
      " #   Column                Non-Null Count   Dtype  \n",
      "---  ------                --------------   -----  \n",
      " 0   Diabetes_012          253680 non-null  float64\n",
      " 1   HighBP                253680 non-null  float64\n",
      " 2   HighChol              253680 non-null  float64\n",
      " 3   CholCheck             253680 non-null  float64\n",
      " 4   BMI                   253680 non-null  float64\n",
      " 5   Smoker                253680 non-null  float64\n",
      " 6   Stroke                253680 non-null  float64\n",
      " 7   HeartDiseaseorAttack  253680 non-null  float64\n",
      " 8   PhysActivity          253680 non-null  float64\n",
      " 9   Fruits                253680 non-null  float64\n",
      " 10  Veggies               253680 non-null  float64\n",
      " 11  HvyAlcoholConsump     253680 non-null  float64\n",
      " 12  AnyHealthcare         253680 non-null  float64\n",
      " 13  NoDocbcCost           253680 non-null  float64\n",
      " 14  GenHlth               253680 non-null  float64\n",
      " 15  MentHlth              253680 non-null  float64\n",
      " 16  PhysHlth              253680 non-null  float64\n",
      " 17  DiffWalk              253680 non-null  float64\n",
      " 18  Sex                   253680 non-null  float64\n",
      " 19  Age                   253680 non-null  float64\n",
      " 20  Education             253680 non-null  float64\n",
      " 21  Income                253680 non-null  float64\n",
      "dtypes: float64(22)\n",
      "memory usage: 42.6 MB\n"
     ]
    }
   ],
   "source": [
    "data.info()"
   ]
  },
  {
   "cell_type": "code",
   "execution_count": 6,
   "id": "0b599737-edad-4067-913a-050a5e4d62e0",
   "metadata": {},
   "outputs": [
    {
     "data": {
      "text/plain": [
       "array([3., 1., 8., 6., 4., 7., 2., 5.])"
      ]
     },
     "execution_count": 6,
     "metadata": {},
     "output_type": "execute_result"
    }
   ],
   "source": [
    "data.Income.unique()"
   ]
  },
  {
   "cell_type": "code",
   "execution_count": 7,
   "id": "ed544f04-4673-4d3a-90b7-e0981c879b8b",
   "metadata": {},
   "outputs": [
    {
     "name": "stdout",
     "output_type": "stream",
     "text": [
      "<class 'pandas.core.series.Series'>\n",
      "RangeIndex: 253680 entries, 0 to 253679\n",
      "Series name: Income\n",
      "Non-Null Count   Dtype  \n",
      "--------------   -----  \n",
      "253680 non-null  float64\n",
      "dtypes: float64(1)\n",
      "memory usage: 1.9 MB\n"
     ]
    }
   ],
   "source": [
    "data.Income.info()"
   ]
  },
  {
   "cell_type": "code",
   "execution_count": 20,
   "id": "81a3b288-6c32-4c14-b709-9516a7e1267a",
   "metadata": {},
   "outputs": [
    {
     "data": {
      "text/plain": [
       "array([0., 2., 1.])"
      ]
     },
     "execution_count": 20,
     "metadata": {},
     "output_type": "execute_result"
    }
   ],
   "source": [
    "data.Diabetes_012.unique()"
   ]
  },
  {
   "cell_type": "code",
   "execution_count": 4,
   "id": "611fdda0-bbc5-4267-b094-92cdd4f20566",
   "metadata": {},
   "outputs": [
    {
     "name": "stdout",
     "output_type": "stream",
     "text": [
      "<class 'pandas.core.series.Series'>\n",
      "RangeIndex: 253680 entries, 0 to 253679\n",
      "Series name: Diabetes_012\n",
      "Non-Null Count   Dtype   \n",
      "--------------   -----   \n",
      "253680 non-null  category\n",
      "dtypes: category(1)\n",
      "memory usage: 248.0 KB\n"
     ]
    }
   ],
   "source": [
    "# Changing the datatype of Diabetes_012 column into category\n",
    "data[\"Diabetes_012\"] = data['Diabetes_012'].astype(\"category\", copy = False)\n",
    "data[\"Diabetes_012\"].info()"
   ]
  },
  {
   "cell_type": "code",
   "execution_count": 21,
   "id": "d7c5a8a9-c0cd-4e36-8aa9-d6e8b328be16",
   "metadata": {},
   "outputs": [],
   "source": [
    "# Coding the column as binary category\n",
    "data.Diabetes_012 = [1 if value == 2.0 else 0 for value in data.Diabetes_012]"
   ]
  },
  {
   "cell_type": "code",
   "execution_count": 25,
   "id": "075362af-0f17-445d-854c-d1c9de3a55a3",
   "metadata": {},
   "outputs": [
    {
     "data": {
      "text/plain": [
       "[0, 1]\n",
       "Categories (2, int64): [0, 1]"
      ]
     },
     "execution_count": 25,
     "metadata": {},
     "output_type": "execute_result"
    }
   ],
   "source": [
    "data[\"Diabetes_012\"].unique()"
   ]
  },
  {
   "cell_type": "markdown",
   "id": "767f5fb5-cbd8-4e93-ab7a-41e13874365f",
   "metadata": {},
   "source": [
    "## Splitting Features and Target"
   ]
  },
  {
   "cell_type": "code",
   "execution_count": 26,
   "id": "5f751e97-649b-44a2-ac34-ba0e8b51c409",
   "metadata": {},
   "outputs": [],
   "source": [
    "X = data.drop(['Diabetes_012'], axis = 1)\n",
    "y = data['Diabetes_012']"
   ]
  },
  {
   "cell_type": "markdown",
   "id": "3a83dcf5-cf9f-4ef8-bd6b-8d2c3fef51a6",
   "metadata": {},
   "source": [
    "## Data Standardization / Normalization"
   ]
  },
  {
   "cell_type": "code",
   "execution_count": 27,
   "id": "f10a528e-d31e-4c2c-9456-08bbe493a624",
   "metadata": {},
   "outputs": [],
   "source": [
    "# Creating a Scaler Object\n",
    "scaler = StandardScaler()\n",
    "\n",
    "# Fitting the Scaler into the Dataset and Data Transformation\n",
    "X_scaled = scaler.fit_transform(X)"
   ]
  },
  {
   "cell_type": "code",
   "execution_count": 28,
   "id": "ec83535f-76c4-4bd2-90a8-20616b6bd951",
   "metadata": {},
   "outputs": [
    {
     "name": "stdout",
     "output_type": "stream",
     "text": [
      "[[ 1.15368814  1.16525449  0.19692156 ...  0.31690008 -1.06559465\n",
      "  -1.4744874 ]\n",
      " [-0.86678537 -0.85818163 -5.07816412 ... -0.33793279  0.96327159\n",
      "  -2.44013754]\n",
      " [ 1.15368814  1.16525449  0.19692156 ...  0.31690008 -1.06559465\n",
      "   0.93963796]\n",
      " ...\n",
      " [-0.86678537 -0.85818163  0.19692156 ... -1.97501498 -0.05116153\n",
      "  -1.95731247]\n",
      " [ 1.15368814 -0.85818163  0.19692156 ... -0.33793279 -0.05116153\n",
      "  -2.44013754]\n",
      " [ 1.15368814  1.16525449  0.19692156 ...  0.31690008  0.96327159\n",
      "  -1.95731247]]\n"
     ]
    }
   ],
   "source": [
    "print(X_scaled)"
   ]
  },
  {
   "cell_type": "markdown",
   "id": "3d3d692b-718d-49b2-a120-b265bf34b5e2",
   "metadata": {},
   "source": [
    "## Splitting the Dataset into Train and Test Data"
   ]
  },
  {
   "cell_type": "code",
   "execution_count": 29,
   "id": "5e95e5aa-d165-43b5-a68c-3e74d9dc205d",
   "metadata": {},
   "outputs": [],
   "source": [
    "X_train, X_test, y_train, y_test = train_test_split(X_scaled, y, test_size = 0.30, random_state=42)"
   ]
  },
  {
   "cell_type": "code",
   "execution_count": 43,
   "id": "6a82c488-457b-46e9-b1fd-0e8950c073c4",
   "metadata": {},
   "outputs": [
    {
     "data": {
      "text/plain": [
       "(177576, 21)"
      ]
     },
     "execution_count": 43,
     "metadata": {},
     "output_type": "execute_result"
    }
   ],
   "source": [
    "X_train.shape"
   ]
  },
  {
   "cell_type": "code",
   "execution_count": 44,
   "id": "e22e0792-848a-4f56-9006-f26db6d5e683",
   "metadata": {},
   "outputs": [
    {
     "data": {
      "text/plain": [
       "(76104, 21)"
      ]
     },
     "execution_count": 44,
     "metadata": {},
     "output_type": "execute_result"
    }
   ],
   "source": [
    "X_test.shape"
   ]
  },
  {
   "cell_type": "markdown",
   "id": "5aafe9a1-6e56-4721-b3a2-508abf4b8a62",
   "metadata": {},
   "source": [
    "## Building the Model"
   ]
  },
  {
   "cell_type": "code",
   "execution_count": 30,
   "id": "f7683ef7-2459-4e77-b9ab-42af7877b50d",
   "metadata": {},
   "outputs": [],
   "source": [
    "# Creating the logistic model\n",
    "lr = LogisticRegression()\n",
    "\n",
    "# Training the model on training data\n",
    "lr.fit(X_train, y_train)\n",
    "\n",
    "# Predict the target variable using test predictors\n",
    "y_predict = lr.predict(X_test)"
   ]
  },
  {
   "cell_type": "code",
   "execution_count": 31,
   "id": "05447b87-c382-4de2-9068-9a4b3b28cab3",
   "metadata": {},
   "outputs": [
    {
     "data": {
      "text/plain": [
       "array([0, 0, 0, ..., 0, 0, 0], dtype=int64)"
      ]
     },
     "execution_count": 31,
     "metadata": {},
     "output_type": "execute_result"
    }
   ],
   "source": [
    "y_predict"
   ]
  },
  {
   "cell_type": "markdown",
   "id": "5a90c0b8-586c-466b-afd3-7f604a2d8e37",
   "metadata": {},
   "source": [
    "## Testing the Accuracy of the Model"
   ]
  },
  {
   "cell_type": "code",
   "execution_count": 32,
   "id": "5c72b2eb-6e65-43e0-8d1c-1cc087e78132",
   "metadata": {},
   "outputs": [
    {
     "name": "stdout",
     "output_type": "stream",
     "text": [
      "Accuracy:  0.87\n"
     ]
    }
   ],
   "source": [
    "from sklearn.metrics import accuracy_score\n",
    "accuracy = accuracy_score(y_test, y_predict)\n",
    "print(f\"Accuracy: {accuracy: .2f}\")"
   ]
  },
  {
   "cell_type": "markdown",
   "id": "49215f6e-169c-4554-bb31-e5b92ed983ca",
   "metadata": {},
   "source": [
    "This model can predict the risk of diabetes using relevent features with an accuarcy of 87%"
   ]
  },
  {
   "cell_type": "markdown",
   "id": "34d6c97f-b296-42f6-bf61-e2028c826572",
   "metadata": {},
   "source": [
    "## Summary of Classification Precision"
   ]
  },
  {
   "cell_type": "code",
   "execution_count": 33,
   "id": "e38c4fd3-2c3a-415a-9bb0-31c7c5247906",
   "metadata": {},
   "outputs": [
    {
     "name": "stdout",
     "output_type": "stream",
     "text": [
      "              precision    recall  f1-score   support\n",
      "\n",
      "           0       0.88      0.98      0.93     65605\n",
      "           1       0.54      0.16      0.24     10499\n",
      "\n",
      "    accuracy                           0.87     76104\n",
      "   macro avg       0.71      0.57      0.59     76104\n",
      "weighted avg       0.83      0.87      0.83     76104\n",
      "\n"
     ]
    }
   ],
   "source": [
    "from sklearn.metrics import classification_report\n",
    "print(classification_report(y_test, y_predict))"
   ]
  },
  {
   "cell_type": "code",
   "execution_count": null,
   "id": "9ae046e9-034c-47cf-9612-a57406b9d69d",
   "metadata": {},
   "outputs": [],
   "source": []
  }
 ],
 "metadata": {
  "kernelspec": {
   "display_name": "Python 3 (ipykernel)",
   "language": "python",
   "name": "python3"
  },
  "language_info": {
   "codemirror_mode": {
    "name": "ipython",
    "version": 3
   },
   "file_extension": ".py",
   "mimetype": "text/x-python",
   "name": "python",
   "nbconvert_exporter": "python",
   "pygments_lexer": "ipython3",
   "version": "3.11.7"
  }
 },
 "nbformat": 4,
 "nbformat_minor": 5
}
